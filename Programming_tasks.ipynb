{
  "nbformat": 4,
  "nbformat_minor": 0,
  "metadata": {
    "colab": {
      "name": "Programming tasks.ipynb",
      "provenance": [],
      "authorship_tag": "ABX9TyNFb7EiGzqFAM4FjEHG6Osh",
      "include_colab_link": true
    },
    "kernelspec": {
      "name": "python3",
      "display_name": "Python 3"
    }
  },
  "cells": [
    {
      "cell_type": "markdown",
      "metadata": {
        "id": "view-in-github",
        "colab_type": "text"
      },
      "source": [
        "<a href=\"https://colab.research.google.com/github/morethanoneofeverything/Udemy_Python/blob/main/Programming_tasks.ipynb\" target=\"_parent\"><img src=\"https://colab.research.google.com/assets/colab-badge.svg\" alt=\"Open In Colab\"/></a>"
      ]
    },
    {
      "cell_type": "markdown",
      "metadata": {
        "id": "SzBpzY5kHtJS"
      },
      "source": [
        "### 1. Split a string"
      ]
    },
    {
      "cell_type": "code",
      "metadata": {
        "colab": {
          "base_uri": "https://localhost:8080/"
        },
        "id": "AElZK9A9r0mS",
        "outputId": "6f2abe74-b94d-454f-ab08-3c3832b65685"
      },
      "source": [
        "sentence = 'I am learning Python'\n",
        "\n",
        "arr = sentence.split()\n",
        "print(arr)\n",
        "# ['I', 'am', 'learning', 'Python'] "
      ],
      "execution_count": null,
      "outputs": [
        {
          "output_type": "stream",
          "text": [
            "['I', 'am', 'learning', 'Python']\n"
          ],
          "name": "stdout"
        }
      ]
    },
    {
      "cell_type": "markdown",
      "metadata": {
        "id": "1hEGg8C1JHNC"
      },
      "source": [
        "### 2. Find word regardless of capitalisation"
      ]
    },
    {
      "cell_type": "code",
      "metadata": {
        "colab": {
          "base_uri": "https://localhost:8080/"
        },
        "id": "h3PIoOcrHsda",
        "outputId": "d72acae5-6247-4d54-80f9-653ca845b46e"
      },
      "source": [
        "def contains_substring(sentence: str) -> bool:\n",
        "    # TODO\n",
        "    return 'python' in sentence.lower()\n",
        "\n",
        "sentences = ['I am learning Python', 'I am learning python', 'Hello Word']\n",
        "\n",
        "for sentence in sentences:\n",
        "    if contains_substring(sentence):\n",
        "        print(f'Found in \"{sentence}\"')\n",
        "    else:\n",
        "        print(f'Not found in \"{sentence}\"')\n",
        "        \n",
        "# Found in \"I am learning Python\"\n",
        "# Found in \"I am learning python\"\n",
        "# Not found in \"Hello Word\"'"
      ],
      "execution_count": null,
      "outputs": [
        {
          "output_type": "stream",
          "text": [
            "Found in \"I am learning Python\"\n",
            "Found in \"I am learning python\"\n",
            "Not found in \"Hello Word\"\n"
          ],
          "name": "stdout"
        }
      ]
    },
    {
      "cell_type": "markdown",
      "metadata": {
        "id": "-HpuRG8-MSOa"
      },
      "source": [
        "### 3. Decode from bytes"
      ]
    },
    {
      "cell_type": "code",
      "metadata": {
        "colab": {
          "base_uri": "https://localhost:8080/"
        },
        "id": "_Oke0b7FKQdK",
        "outputId": "2236265c-9aca-4a43-e951-dbea1ff6e89d"
      },
      "source": [
        "bytes_to_convert = b\"Python\"\n",
        "converted_str = bytes_to_convert.decode('utf-8')\n",
        "\n",
        "print(converted_str)\n",
        "\n",
        "# 'Python'"
      ],
      "execution_count": null,
      "outputs": [
        {
          "output_type": "stream",
          "text": [
            "Python\n"
          ],
          "name": "stdout"
        }
      ]
    },
    {
      "cell_type": "markdown",
      "metadata": {
        "id": "kHvxknASMqxv"
      },
      "source": [
        "### 4. Pull section from a string"
      ]
    },
    {
      "cell_type": "code",
      "metadata": {
        "colab": {
          "base_uri": "https://localhost:8080/"
        },
        "id": "8GoOSpKQMx5t",
        "outputId": "d17da111-1cb8-4666-8d12-a2bbe3780f17"
      },
      "source": [
        "sentence = 'I love Python'\n",
        "value = sentence[2:6]\n",
        "print(value)\n",
        "# 'love'"
      ],
      "execution_count": null,
      "outputs": [
        {
          "output_type": "stream",
          "text": [
            "love\n"
          ],
          "name": "stdout"
        }
      ]
    },
    {
      "cell_type": "markdown",
      "metadata": {
        "id": "ZIMMifIUOXqr"
      },
      "source": [
        "### 5. Returning a Palindrome"
      ]
    },
    {
      "cell_type": "code",
      "metadata": {
        "colab": {
          "base_uri": "https://localhost:8080/"
        },
        "id": "PtVICvEhPM3E",
        "outputId": "de7effb9-5f44-400f-aa43-d82b2203397e"
      },
      "source": [
        "def is_palindrom(word: str) -> bool:\n",
        "    # TODO\n",
        "    return word == word[::-1]\n",
        "\n",
        "words = ['kajak', 'inni', 'ananas', 'radar']\n",
        "for word in words:\n",
        "    if is_palindrom(word):\n",
        "        print(f'{word} is a palindrom')\n",
        "    else:\n",
        "        print(f'{word} is not a palindrom')\n",
        "        \n",
        "# kajak is a palindrom\n",
        "# inni is a palindrom\n",
        "# ananas is not a palindrom\n",
        "# radar is a palindrom"
      ],
      "execution_count": null,
      "outputs": [
        {
          "output_type": "stream",
          "text": [
            "kajak is a palindrom\n",
            "inni is a palindrom\n",
            "ananas is not a palindrom\n",
            "radar is a palindrom\n"
          ],
          "name": "stdout"
        }
      ]
    },
    {
      "cell_type": "markdown",
      "metadata": {
        "id": "IKi3nOpgP62W"
      },
      "source": [
        "### 6. Formatting String - Align Right"
      ]
    },
    {
      "cell_type": "code",
      "metadata": {
        "colab": {
          "base_uri": "https://localhost:8080/"
        },
        "id": "gAwYpNJWQgsM",
        "outputId": "08d557b7-516c-4129-c190-044ad31de6ef"
      },
      "source": [
        "name = 'Mark'\n",
        "# align_right = \"______\"+name\n",
        "\n",
        "# better way to do this:\n",
        "align_right = f'{name:_>10}'\n",
        "\n",
        "print (align_right)\n",
        "# '______Mark'"
      ],
      "execution_count": null,
      "outputs": [
        {
          "output_type": "stream",
          "text": [
            "______Mark\n"
          ],
          "name": "stdout"
        }
      ]
    },
    {
      "cell_type": "markdown",
      "metadata": {
        "id": "lAyYHySzTmG-"
      },
      "source": [
        "### 7. Formatting String - Align Left"
      ]
    },
    {
      "cell_type": "code",
      "metadata": {
        "colab": {
          "base_uri": "https://localhost:8080/"
        },
        "id": "MyyWTwpuTrd7",
        "outputId": "72d76cde-3863-4ca7-e516-6885e3139cc6"
      },
      "source": [
        "name = 'Mark'\n",
        "align_left = f'{name:.<10}'\n",
        "print(align_left)\n",
        "# 'Mark______'"
      ],
      "execution_count": null,
      "outputs": [
        {
          "output_type": "stream",
          "text": [
            "Mark......\n"
          ],
          "name": "stdout"
        }
      ]
    },
    {
      "cell_type": "markdown",
      "metadata": {
        "id": "tnpWkYgXUFMu"
      },
      "source": [
        "### 8. Formatting String - Centre"
      ]
    },
    {
      "cell_type": "code",
      "metadata": {
        "colab": {
          "base_uri": "https://localhost:8080/"
        },
        "id": "EmOqYZ4kUKAq",
        "outputId": "32f15890-00ea-4e0f-afcb-51f218fd855d"
      },
      "source": [
        "name = 'Mark'\n",
        "align_center =f'{name:*^8}'\n",
        "print(align_center)\n",
        "# '__Mark__'"
      ],
      "execution_count": null,
      "outputs": [
        {
          "output_type": "stream",
          "text": [
            "**Mark**\n"
          ],
          "name": "stdout"
        }
      ]
    },
    {
      "cell_type": "markdown",
      "metadata": {
        "id": "7g5v5s-nV5W8"
      },
      "source": [
        "### 9. Adding Strings together"
      ]
    },
    {
      "cell_type": "code",
      "metadata": {
        "colab": {
          "base_uri": "https://localhost:8080/"
        },
        "id": "QQyFIxbYWDtH",
        "outputId": "e15546d2-cb98-4c0c-e754-025c4154978d"
      },
      "source": [
        "full_name_dict = {\n",
        "    'first_name': 'Alice',\n",
        "    'last_name': 'Smith'\n",
        "}\n",
        "\n",
        "full_name_str = '{first_name} {last_name}'.format(**full_name_dict)\n",
        "\n",
        "print(full_name_str)\n",
        "# 'Alice Smith'"
      ],
      "execution_count": null,
      "outputs": [
        {
          "output_type": "stream",
          "text": [
            "Alice Smith\n"
          ],
          "name": "stdout"
        }
      ]
    },
    {
      "cell_type": "markdown",
      "metadata": {
        "id": "vB875Se8ZlIx"
      },
      "source": [
        "### 10. Convert Number to string with precision"
      ]
    },
    {
      "cell_type": "code",
      "metadata": {
        "colab": {
          "base_uri": "https://localhost:8080/"
        },
        "id": "pgTU5P05Zkr5",
        "outputId": "246208e7-1e76-4cac-8496-f9fb6235ab52"
      },
      "source": [
        "number = 15.987654321\n",
        "new_number = f'{number:08.4f}'\n",
        "# We can also specify the precision: the number of decimal places. \n",
        "# The precision is a value that goes right after the dot character.\n",
        "# The \"08\" refers to the value that you want at the front (e.g. having a ). the number after the decimal is how many you want after \n",
        "\n",
        "print(new_number)\n",
        "# '015.9877'"
      ],
      "execution_count": null,
      "outputs": [
        {
          "output_type": "stream",
          "text": [
            "015.9877\n"
          ],
          "name": "stdout"
        }
      ]
    },
    {
      "cell_type": "markdown",
      "metadata": {
        "id": "nUSrgHAVGfVY"
      },
      "source": [
        "### 11. Validating A string\n",
        "\n",
        "A string is valid if it meets the following: \n",
        "Use \"and\" and \"not' statements\n",
        "- String cannot be empty\n",
        "- string does not end with \"em\"\n",
        "- String contains only lowercase letters\n",
        "- string cannot contain a space character"
      ]
    },
    {
      "cell_type": "code",
      "metadata": {
        "colab": {
          "base_uri": "https://localhost:8080/"
        },
        "id": "WbumugqCGex5",
        "outputId": "17fa0685-1caf-4c65-c4f9-de293cbc188e"
      },
      "source": [
        "def is_string_valid(string: str) -> bool:\n",
        "    # TODO\n",
        "    return not string.endswith(\"em\") and string.islower() and ' ' not in string \n",
        "\n",
        "sentences = ['abcdef', 'abcdem', 'abcfEd', 'ab cde', 'bbbbbb', '']\n",
        "\n",
        "for sentence in sentences:\n",
        "    if is_string_valid(sentence):\n",
        "        print(f'\"{sentence}\" is valid')\n",
        "    else:\n",
        "        print(f'\"{sentence}\" is not valid')\n",
        "        \n",
        "\n",
        "# \"abcdef\" is valid\n",
        "# \"abcdem\" is not valid\n",
        "# \"abcfEd\" is not valid\n",
        "# \"ab cde\" is not valid\n",
        "# \"bbbbbb\" is valid\n",
        "# \"\" is not valid"
      ],
      "execution_count": null,
      "outputs": [
        {
          "output_type": "stream",
          "text": [
            "\"abcdef\" is valid\n",
            "\"abcdem\" is not valid\n",
            "\"abcfEd\" is not valid\n",
            "\"ab cde\" is not valid\n",
            "\"bbbbbb\" is valid\n",
            "\"\" is not valid\n"
          ],
          "name": "stdout"
        }
      ]
    },
    {
      "cell_type": "markdown",
      "metadata": {
        "id": "80mG3eOWGefx"
      },
      "source": [
        "### 12. Trim spaces\n",
        "Use strip()"
      ]
    },
    {
      "cell_type": "code",
      "metadata": {
        "colab": {
          "base_uri": "https://localhost:8080/"
        },
        "id": "7ruIsfMtRWWe",
        "outputId": "2ce8cccf-eee3-49e4-f97c-9a084b109fdf"
      },
      "source": [
        "word = ' hello   '\n",
        "new_word = word.strip()\n",
        "\n",
        "print(new_word)\n",
        "# 'hello'"
      ],
      "execution_count": null,
      "outputs": [
        {
          "output_type": "stream",
          "text": [
            "hello\n"
          ],
          "name": "stdout"
        }
      ]
    },
    {
      "cell_type": "markdown",
      "metadata": {
        "id": "nbCzTiwVRVpg"
      },
      "source": [
        "### 13. Removing New Line Characters from a String"
      ]
    },
    {
      "cell_type": "code",
      "metadata": {
        "colab": {
          "base_uri": "https://localhost:8080/"
        },
        "id": "sg1vQGyOVBlg",
        "outputId": "c3155dd5-9f1b-4527-e6a8-a8c695e4daaf"
      },
      "source": [
        "import re\n",
        "\n",
        "word = ' h\\nel  lo_  \\nwor  ld '\n",
        "new_word = re.sub(r'[\\s\\n]', '', word)\n",
        "\n",
        "# or new_world = word.replace(' ', ''). replace('\\n', '')\n",
        "\n",
        "print(new_word)\n",
        "# 'hello_world'"
      ],
      "execution_count": null,
      "outputs": [
        {
          "output_type": "stream",
          "text": [
            "hello_world\n"
          ],
          "name": "stdout"
        }
      ]
    },
    {
      "cell_type": "markdown",
      "metadata": {
        "id": "U4lhZOcqYRgO"
      },
      "source": [
        "### 14. Get filename"
      ]
    },
    {
      "cell_type": "code",
      "metadata": {
        "colab": {
          "base_uri": "https://localhost:8080/"
        },
        "id": "ga4qUfW6YaeV",
        "outputId": "461e20c0-ddbb-40a2-fc3d-aa9597995568"
      },
      "source": [
        "from pathlib import Path\n",
        "\n",
        "path = '/home/user/dir/file.txt'\n",
        "# file_name = path[-8:-4]\n",
        "# better way below\n",
        "\n",
        "file_name = Path(path).stem\n",
        "\n",
        "print(file_name)\n",
        "# 'file'"
      ],
      "execution_count": null,
      "outputs": [
        {
          "output_type": "stream",
          "text": [
            "file\n"
          ],
          "name": "stdout"
        }
      ]
    },
    {
      "cell_type": "markdown",
      "metadata": {
        "id": "jFeBYNZbe9p7"
      },
      "source": [
        "### 15. Counting occurences of characters/variables in strings"
      ]
    },
    {
      "cell_type": "code",
      "metadata": {
        "colab": {
          "base_uri": "https://localhost:8080/"
        },
        "id": "xsoa7YHzfFci",
        "outputId": "a7626cc6-0d3c-4aea-af6c-54a30aa67863"
      },
      "source": [
        "text = '''Humpty Dumpty sat on a wall,\n",
        "Humpty Dumpty had a great fall,\n",
        "All the king's horses and all the king's men,\n",
        "Couldn't put Humpty together again.'''\n",
        "\n",
        "count = text.count(\"g\")\n",
        "\n",
        "print(count)\n",
        "# 5"
      ],
      "execution_count": null,
      "outputs": [
        {
          "output_type": "stream",
          "text": [
            "5\n"
          ],
          "name": "stdout"
        }
      ]
    },
    {
      "cell_type": "markdown",
      "metadata": {
        "id": "kfo_ZNXtiKwM"
      },
      "source": [
        "### 16. Create a function that determines if an object is a string."
      ]
    },
    {
      "cell_type": "code",
      "metadata": {
        "colab": {
          "base_uri": "https://localhost:8080/"
        },
        "id": "3dC0loBJiRK8",
        "outputId": "979a08ef-091e-4a8f-cd7d-b85c0fc4e32c"
      },
      "source": [
        "from typing import Any\n",
        "\n",
        "def is_string(obj: Any) -> bool:\n",
        "    # TODO\n",
        "    return isinstance(obj, str)\n",
        "\n",
        "arr = ['python', 22, ['elem'], '', {'elem'}, '323']\n",
        "\n",
        "for obj in arr:\n",
        "    if is_string(obj):\n",
        "        print(f'\"{obj}\" is a string')\n",
        "    else:\n",
        "        print(f'\"{obj}\" is not a string')\n",
        "        \n",
        "# \"python\" is a string\n",
        "# \"22\" is not a string\n",
        "# \"['elem']\" is not a string\n",
        "# \"\" is a string\n",
        "# \"{'elem'}\" is not a string\n",
        "# \"323\" is a string"
      ],
      "execution_count": null,
      "outputs": [
        {
          "output_type": "stream",
          "text": [
            "\"python\" is a string\n",
            "\"22\" is not a string\n",
            "\"['elem']\" is not a string\n",
            "\"\" is a string\n",
            "\"{'elem'}\" is not a string\n",
            "\"323\" is a string\n"
          ],
          "name": "stdout"
        }
      ]
    },
    {
      "cell_type": "markdown",
      "metadata": {
        "id": "SzvIhghun7R8"
      },
      "source": [
        "### 17. Return unique words from a string to a list\n",
        "\n",
        "Using Regular expressions\n",
        "(import re)\n",
        "\n",
        "\n",
        "*    for this one we want to create a list.\n",
        "\n",
        "*    inside the list we want to set because although it's unordered it's removes duplicates\n",
        "\n",
        "*    reg expression is to help remove and split at the appropriate times. \n",
        "\n",
        "1.   we want to first include the comma in the split (',\\s') \n",
        "2.   OR (|) include any whitespace ('\\s')\n",
        "3.   OR (|) include the colon in the split (':\\s')\n",
        "4.   then have the variable that you are going to use\n",
        "\n"
      ]
    },
    {
      "cell_type": "code",
      "metadata": {
        "colab": {
          "base_uri": "https://localhost:8080/"
        },
        "id": "OaWR57rGoEV4",
        "outputId": "1a73d6d3-0ecc-41d4-8e2a-83ef9080f2fa"
      },
      "source": [
        "import re\n",
        "\n",
        "text = 'Humpty Dumpty: sat on a wall, Humpty Dumpty: had a great fall'\n",
        "list_of_words = list(set(re.split(r',\\s|\\s|:\\s', text)))\n",
        "\n",
        "print(list_of_words)\n",
        "# ['on', 'sat', 'Dumpty', 'Humpty', 'wall', 'great', 'fall', 'a', 'had']"
      ],
      "execution_count": null,
      "outputs": [
        {
          "output_type": "stream",
          "text": [
            "['on', 'Dumpty', 'sat', 'fall', 'wall', 'a', 'had', 'Humpty', 'great']\n"
          ],
          "name": "stdout"
        }
      ]
    },
    {
      "cell_type": "markdown",
      "metadata": {
        "id": "dLTsHvNmb-qK"
      },
      "source": [
        "### 18. Return digits EXCEPT for 8, convert to integer and put them in a list.\n",
        "\n",
        "\n",
        "map() function\n",
        "\n",
        "\n",
        "*function* -\tRequired. The function to execute for each item\n",
        "\n",
        "*iterable* -\tRequired. A sequence, collection or an iterator object. You can send as many iterables as you like, just make sure the function has one parameter for each iterable.\n"
      ]
    },
    {
      "cell_type": "code",
      "metadata": {
        "colab": {
          "base_uri": "https://localhost:8080/"
        },
        "id": "J6BhVqfoX6OQ",
        "outputId": "5b93af25-ae05-4c65-9e7e-5627a90d1e28"
      },
      "source": [
        "sentence = 'I 33lo2ve1 P7yt88ho5n!132'\n",
        "digits = list(map(int, [char for char in sentence if char.isdigit() and char != 8]))\n",
        "\n",
        "print(digits)\n",
        "# [3, 3, 2, 1, 7, 5, 1, 3, 2]"
      ],
      "execution_count": null,
      "outputs": [
        {
          "output_type": "stream",
          "text": [
            "[3, 3, 2, 1, 7, 8, 8, 5, 1, 3, 2]\n"
          ],
          "name": "stdout"
        }
      ]
    },
    {
      "cell_type": "markdown",
      "metadata": {
        "id": "pJ46AKMXX6oK"
      },
      "source": [
        "### 19. Return digits with grouping and put them in a list"
      ]
    },
    {
      "cell_type": "code",
      "metadata": {
        "id": "r97V_sAecL0J",
        "colab": {
          "base_uri": "https://localhost:8080/"
        },
        "outputId": "bff90e77-87d1-4cbc-9b11-3488531f3861"
      },
      "source": [
        "import re\n",
        "\n",
        "sentence = 'I 33lo2ve1 P7yt88ho5n!132'\n",
        "digits = re.findall(r'\\d+', sentence)\n",
        "\n",
        "print(digits)\n",
        "# ['33', '2', '1', '7', '88', '5', '132']"
      ],
      "execution_count": null,
      "outputs": [
        {
          "output_type": "stream",
          "text": [
            "['33', '2', '1', '7', '88', '5', '132']\n"
          ],
          "name": "stdout"
        }
      ]
    },
    {
      "cell_type": "markdown",
      "metadata": {
        "id": "gW6PX9z6CC9l"
      },
      "source": [
        "### 20. Change all digits and \"P\" character to \"&\"\n",
        "\n",
        "use re\n",
        "\n",
        "for sub:\n",
        "\n",
        "Return the string obtained by replacing the leftmost\n",
        "non-overlapping occurrences of the pattern in string by the replacement repl.  repl can be either a string or a callable; if a string, backslash escapes in it are processed.  If it is a callable, it's passed the Match object and must return a replacement string to be used."
      ]
    },
    {
      "cell_type": "code",
      "metadata": {
        "colab": {
          "base_uri": "https://localhost:8080/"
        },
        "id": "9vkuFMLcCNjr",
        "outputId": "ee33d02d-7f6d-4658-a88f-d2dc95054ef7"
      },
      "source": [
        "import re\n",
        "sentence = 'I 33lo2ve1 P7yt88ho5n!132'\n",
        "new_sentence = re.sub('[\\dP]', '&', sentence)\n",
        "\n",
        "print(new_sentence)\n",
        "# 'I &&lo&ve& &&yt&&ho&n!&&&'"
      ],
      "execution_count": null,
      "outputs": [
        {
          "output_type": "stream",
          "text": [
            "I &&lo&ve& &&yt&&ho&n!&&&\n"
          ],
          "name": "stdout"
        }
      ]
    },
    {
      "cell_type": "markdown",
      "metadata": {
        "id": "R0Kryuf1FihA"
      },
      "source": [
        "### 21. Remove all non digit characters\n",
        "\n"
      ]
    },
    {
      "cell_type": "code",
      "metadata": {
        "colab": {
          "base_uri": "https://localhost:8080/"
        },
        "id": "1nNAn6X-GRih",
        "outputId": "963a84a7-ce68-4ca3-8e6f-cf9b81ccc644"
      },
      "source": [
        "import re\n",
        "\n",
        "sentence = 'I 33lo2ve1 P7yt88ho5n!132'\n",
        "new_sentence = re.sub(r'[^\\d]', '', sentence)\n",
        "\n",
        "print(new_sentence)\n",
        "# '33217885132'"
      ],
      "execution_count": null,
      "outputs": [
        {
          "output_type": "stream",
          "text": [
            "33217885132\n"
          ],
          "name": "stdout"
        }
      ]
    },
    {
      "cell_type": "markdown",
      "metadata": {
        "id": "wVCEyOljNjem"
      },
      "source": [
        "### 22. Remove multiple spaces and leave a single space\n",
        "\n",
        "sub(pattern, repl, string, count=0, flags=0)"
      ]
    },
    {
      "cell_type": "code",
      "metadata": {
        "colab": {
          "base_uri": "https://localhost:8080/"
        },
        "id": "4SXzhA4ENoXn",
        "outputId": "eff2d6c0-8a98-4990-d107-1aeadee39828"
      },
      "source": [
        "import re\n",
        "text = 'Humpty      Dumpty sat  on   a            wall'\n",
        "new_text = re.sub(r'\\s\\s+', ' ', text)\n",
        "\n",
        "print(new_text)\n",
        "# 'Humpty Dumpty sat on a wall'"
      ],
      "execution_count": null,
      "outputs": [
        {
          "output_type": "stream",
          "text": [
            "Humpty Dumpty sat on a wall\n"
          ],
          "name": "stdout"
        }
      ]
    },
    {
      "cell_type": "markdown",
      "metadata": {
        "id": "0Knlh37MPmzG"
      },
      "source": [
        "### 23. Convert strings to integer\n",
        "\n",
        "map(func, *iterables) --> map object\n",
        "\n",
        "Make an iterator that computes the function using arguments from each of the iterables.  Stops when the shortest iterable is exhausted."
      ]
    },
    {
      "cell_type": "code",
      "metadata": {
        "colab": {
          "base_uri": "https://localhost:8080/"
        },
        "id": "L_K6HhM3RU6o",
        "outputId": "064fdf3c-e836-41c3-82cc-e98a8a1c53de"
      },
      "source": [
        "arr = ['1', '2', '3', '4']\n",
        "arr = list(map(int, arr))\n",
        "\n",
        "# or\n",
        "# arr = list(map(int, arr))\n",
        "\n",
        "print(arr)\n",
        "# [1, 2, 3, 4]"
      ],
      "execution_count": null,
      "outputs": [
        {
          "output_type": "stream",
          "text": [
            "[1, 2, 3, 4]\n"
          ],
          "name": "stdout"
        }
      ]
    },
    {
      "cell_type": "markdown",
      "metadata": {
        "id": "O0OXyNZSUNJM"
      },
      "source": [
        "### 24. Divide numbers, with no decimal places\n",
        "\n"
      ]
    },
    {
      "cell_type": "code",
      "metadata": {
        "colab": {
          "base_uri": "https://localhost:8080/"
        },
        "id": "fNYZBMC8UVld",
        "outputId": "8f8a3dee-f7f0-4be9-fc44-d6cc79e24e43"
      },
      "source": [
        "num_1 = 14\n",
        "num_2 = 5\n",
        "\n",
        "num = int(num_1 / num_2)\n",
        "\n",
        "print(num)\n",
        "\n",
        "# 2"
      ],
      "execution_count": null,
      "outputs": [
        {
          "output_type": "stream",
          "text": [
            "2\n"
          ],
          "name": "stdout"
        }
      ]
    },
    {
      "cell_type": "markdown",
      "metadata": {
        "id": "dY89etu-VS4y"
      },
      "source": [
        "### 25. Round the number up in the variable"
      ]
    },
    {
      "cell_type": "code",
      "metadata": {
        "colab": {
          "base_uri": "https://localhost:8080/"
        },
        "id": "DSSfxBD9VW7i",
        "outputId": "8e6b1e34-b7b7-48f8-8f36-560ecdca17ea"
      },
      "source": [
        "import math\n",
        "num = 8.4\n",
        "num = math.ceil(num)\n",
        "\n",
        "print(num)\n",
        "# 9"
      ],
      "execution_count": null,
      "outputs": [
        {
          "output_type": "stream",
          "text": [
            "9\n"
          ],
          "name": "stdout"
        }
      ]
    },
    {
      "cell_type": "markdown",
      "metadata": {
        "id": "k_X0hxRtV9bp"
      },
      "source": [
        "### 26. Round to 3 decimal places"
      ]
    },
    {
      "cell_type": "code",
      "metadata": {
        "colab": {
          "base_uri": "https://localhost:8080/"
        },
        "id": "eLBzyox4V8yq",
        "outputId": "73ed97fd-e274-4246-e0da-fa5e036cfd7c"
      },
      "source": [
        "num = 15.45874587\n",
        "num = round(num, 3)\n",
        "\n",
        "print(num)\n",
        "# 15.459"
      ],
      "execution_count": null,
      "outputs": [
        {
          "output_type": "stream",
          "text": [
            "15.459\n"
          ],
          "name": "stdout"
        }
      ]
    },
    {
      "cell_type": "markdown",
      "metadata": {
        "id": "1kw52Z4obHpD"
      },
      "source": [
        "### 27. Get the integer"
      ]
    },
    {
      "cell_type": "code",
      "metadata": {
        "colab": {
          "base_uri": "https://localhost:8080/"
        },
        "id": "LOw-tDOqbajq",
        "outputId": "e718046f-2b8c-4d25-e851-18c716540932"
      },
      "source": [
        "import math\n",
        "num = 12.8\n",
        "new_num = math.floor(num)\n",
        "\n",
        "# or \n",
        "# new_num = int(num)\n",
        "print(new_num)\n",
        "# 12"
      ],
      "execution_count": null,
      "outputs": [
        {
          "output_type": "stream",
          "text": [
            "12\n"
          ],
          "name": "stdout"
        }
      ]
    },
    {
      "cell_type": "markdown",
      "metadata": {
        "id": "cnWMZTn6caQ2"
      },
      "source": [
        "### 28. Convert the negative number into a positive number"
      ]
    },
    {
      "cell_type": "code",
      "metadata": {
        "colab": {
          "base_uri": "https://localhost:8080/"
        },
        "id": "KMUE56lMeATp",
        "outputId": "94b067bc-e526-4257-86f4-f955787cd15c"
      },
      "source": [
        "num = -12.8\n",
        "new_num = abs(num)\n",
        "\n",
        "print(new_num)\n",
        "# 12.8"
      ],
      "execution_count": null,
      "outputs": [
        {
          "output_type": "stream",
          "text": [
            "12.8\n"
          ],
          "name": "stdout"
        }
      ]
    },
    {
      "cell_type": "markdown",
      "metadata": {
        "id": "e-wXjIZBhVZZ"
      },
      "source": [
        "### 29. Sum integers of numbers divisible by 2 and 3 from 1-100"
      ]
    },
    {
      "cell_type": "code",
      "metadata": {
        "colab": {
          "base_uri": "https://localhost:8080/"
        },
        "id": "LnZPfX3Hhe3c",
        "outputId": "80d0f798-b136-4c17-f5c5-705f293c680a"
      },
      "source": [
        "def get_sum_divided_by_2_and_3():\n",
        "    # TODO\n",
        "    return sum(number for number in range(1,100)\n",
        "              if number % 2 == 0 and number % 3 == 0)\n",
        "\n",
        "result = get_sum_divided_by_2_and_3()\n",
        "print(result)\n",
        "# 816"
      ],
      "execution_count": null,
      "outputs": [
        {
          "output_type": "stream",
          "text": [
            "816\n"
          ],
          "name": "stdout"
        }
      ]
    },
    {
      "cell_type": "markdown",
      "metadata": {
        "id": "3GBVozEKirtU"
      },
      "source": [
        "### 30. Create a list of Tuples\n",
        "\n",
        "\n",
        "zip(*iterables) --> zip object\n",
        "\n",
        "Return a zip object whose .next() method returns a tuple where the i-th element comes from the i-th iterable argument.  \n",
        "\n",
        "The .next() method continues until the shortest iterable in the argument sequence is exhausted and then it raises StopIteration."
      ]
    },
    {
      "cell_type": "code",
      "metadata": {
        "colab": {
          "base_uri": "https://localhost:8080/"
        },
        "id": "KyH8MdqJp5AG",
        "outputId": "97f9be18-bca6-41cf-ec3a-5afc653b8c84"
      },
      "source": [
        "first_names = ['Alice', 'Tom', 'John']\n",
        "last_names = ['Smith', 'Brown', 'Thompson']\n",
        "\n",
        "persons = list(zip(first_names, last_names))\n",
        "\n",
        "print(persons)\n",
        "# [('Alice', 'Smith'), ('Tom', 'Brown'), ('John', 'Thompson')]"
      ],
      "execution_count": null,
      "outputs": [
        {
          "output_type": "stream",
          "text": [
            "[('Alice', 'Smith'), ('Tom', 'Brown'), ('John', 'Thompson')]\n"
          ],
          "name": "stdout"
        }
      ]
    },
    {
      "cell_type": "markdown",
      "metadata": {
        "id": "67Xv5ICRr1gl"
      },
      "source": [
        "### 31. Swap the x & y variables around "
      ]
    },
    {
      "cell_type": "code",
      "metadata": {
        "colab": {
          "base_uri": "https://localhost:8080/"
        },
        "id": "e21igOJpr6Pu",
        "outputId": "00eee9fa-e089-4f1f-c07e-74eae28c5b2f"
      },
      "source": [
        "x = 'Python-XX'\n",
        "y = 'Python-YY'\n",
        "temp = x\n",
        "x = y\n",
        "y = temp\n",
        "\n",
        "# or \n",
        "# x, y = y, x\n",
        "\n",
        "print(x)\n",
        "print(y)\n",
        "# x\n",
        "# 'Python-YY'\n",
        "\n",
        "# y\n",
        "# 'Python-XX'"
      ],
      "execution_count": null,
      "outputs": [
        {
          "output_type": "stream",
          "text": [
            "Python-YY\n",
            "Python-XX\n"
          ],
          "name": "stdout"
        }
      ]
    },
    {
      "cell_type": "markdown",
      "metadata": {
        "id": "tTiRTNZ9IZgv"
      },
      "source": [
        "### 32. Convert a list to a tuple and remove elements that are not integers"
      ]
    },
    {
      "cell_type": "code",
      "metadata": {
        "colab": {
          "base_uri": "https://localhost:8080/"
        },
        "id": "rBz54OYhI8xX",
        "outputId": "de6f643f-f9b0-47f5-e905-22045c608436"
      },
      "source": [
        "arr = ['str', 24355, -3, [3, 3, 3], ('tuple,'), {1: 1}, {1, 2, 3}, 44]\n",
        "numbers = tuple(item for item in arr if isinstance(item, int))\n",
        "\n",
        "print(numbers)\n",
        "# (24355, -3, 44)"
      ],
      "execution_count": null,
      "outputs": [
        {
          "output_type": "stream",
          "text": [
            "(24355, -3, 44)\n"
          ],
          "name": "stdout"
        }
      ]
    },
    {
      "cell_type": "markdown",
      "metadata": {
        "id": "ZHgG4BktS4z6"
      },
      "source": [
        "### 33. Sort a list of tuples by the first element (index 0)\n",
        "\n",
        "Return a new list containing all items from the iterable in ascending order.\n",
        "\n",
        "A custom key function can be supplied to customize the sort order, and the reverse flag can be set to request the result in descending order.\n",
        "\n",
        "lambda and sorted is a simple way to sort tuples \n"
      ]
    },
    {
      "cell_type": "code",
      "metadata": {
        "colab": {
          "base_uri": "https://localhost:8080/"
        },
        "id": "erpbYaEXTDgl",
        "outputId": "922f5958-90a2-42fb-c936-f0c8f3c6b3ee"
      },
      "source": [
        "arr = [('Alice', 'Smith'), ('Tom', 'Brown'), ('John', 'Thompson'), ('Nina', 'Wood')]\n",
        "\n",
        "sorted_arr = sorted(arr,key=lambda item: item [0]) \n",
        "\n",
        "print(sorted_arr)\n",
        "# [('Alice', 'Smith'), ('John', 'Thompson'), ('Nina', 'Wood'), ('Tom', 'Brown')]"
      ],
      "execution_count": null,
      "outputs": [
        {
          "output_type": "stream",
          "text": [
            "[('Alice', 'Smith'), ('John', 'Thompson'), ('Nina', 'Wood'), ('Tom', 'Brown')]\n"
          ],
          "name": "stdout"
        }
      ]
    },
    {
      "cell_type": "markdown",
      "metadata": {
        "id": "zzuQ0bqmg6-Y"
      },
      "source": [
        "### 34. Unpack the first and last elements of the tuple to the respective variables. Then save the other numbers in a list."
      ]
    },
    {
      "cell_type": "code",
      "metadata": {
        "colab": {
          "base_uri": "https://localhost:8080/"
        },
        "id": "jxIR4NUohWiG",
        "outputId": "5e0eafb5-0bbe-4590-b74a-95415305d45a"
      },
      "source": [
        "numbers = (24355, -3, 44, 45, 46, 47, 890)\n",
        "\n",
        "# first = numbers[0]\n",
        "# 24355\n",
        "# last = numbers[-1]\n",
        "# 890\n",
        "# other_numbers = list(numbers[1:6])\n",
        "\n",
        "# or\n",
        "first, *other_numbers, last=numbers\n",
        "\n",
        "\n",
        "\n",
        "print(first)\n",
        "print(last)\n",
        "print(other_numbers)\n",
        "# [-3, 44, 45, 46, 47]"
      ],
      "execution_count": null,
      "outputs": [
        {
          "output_type": "stream",
          "text": [
            "24355\n",
            "890\n",
            "[-3, 44, 45, 46, 47]\n"
          ],
          "name": "stdout"
        }
      ]
    },
    {
      "cell_type": "markdown",
      "metadata": {
        "id": "UNExSJMNjzyg"
      },
      "source": [
        "### 35. Convert the list of 2 item tuples to a list of tuples.\n",
        "\n",
        "Where the first tuple contains the first item in each tuple and the second tuple holds the second item. \n",
        "\n",
        "zip(*iterables) --> zip object\n",
        "\n",
        "Return a zip object whose .next() method returns a tuple where\n",
        "the i-th element comes from the i-th iterable argument.  The .next()\n",
        "method continues until the shortest iterable in the argument sequence\n",
        "is exhausted and then it raises StopIteration."
      ]
    },
    {
      "cell_type": "code",
      "metadata": {
        "colab": {
          "base_uri": "https://localhost:8080/"
        },
        "id": "UbJ3bFt3kH-_",
        "outputId": "ed85b532-08f4-4819-a5e7-38ea992c2f33"
      },
      "source": [
        "arr_of_tuples = [('Alice', 'Smith'), ('Tom', 'Brown'), ('John', 'Thompson')]\n",
        "\n",
        "new_arr = list(zip(*arr_of_tuples))\n",
        "\n",
        "print(new_arr)\n",
        "# [('Alice', 'Tom', 'John'), ('Smith', 'Brown', 'Thompson')]"
      ],
      "execution_count": null,
      "outputs": [
        {
          "output_type": "stream",
          "text": [
            "[('Alice', 'Tom', 'John'), ('Smith', 'Brown', 'Thompson')]\n"
          ],
          "name": "stdout"
        }
      ]
    },
    {
      "cell_type": "markdown",
      "metadata": {
        "id": "pqOYE19tLMbv"
      },
      "source": [
        "### 36. Check if 2 tuples are equal"
      ]
    },
    {
      "cell_type": "code",
      "metadata": {
        "colab": {
          "base_uri": "https://localhost:8080/"
        },
        "id": "UfgmmBSWLVZn",
        "outputId": "987a9a0d-8877-47c1-b025-10c8b50530ce"
      },
      "source": [
        "def are_tuples_the_same(t1: tuple, t2: tuple) -> bool:\n",
        "    # TODO\n",
        "    return t1 == t2\n",
        "    \n",
        "\n",
        "arr_1 = [(1, 1), ('x', 'y', 'z'), ('t', 22, 45, 'vv'), ('python',)]\n",
        "arr_2 = [(1, 1), ('a', 'b', 'c'), ('t', 22, 45, 'vv'), ('Python',)]\n",
        "\n",
        "for t1, t2 in zip(arr_1, arr_2):\n",
        "    if are_tuples_the_same(t1, t2):\n",
        "        print(f'Tuple {t1} and {t2} are the same')\n",
        "    else:\n",
        "        print(f'Tuple {t1} and {t2} contains different elements')\n",
        "  \n",
        "\n",
        "print(are_tuples_the_same)  \n",
        "# Tuple (1, 1) and (1, 1) are the same\n",
        "# Tuple ('x', 'y', 'z') and ('a', 'b', 'c') contains different elements\n",
        "# Tuple ('t', 22, 45, 'vv') and ('t', 22, 45, 'vv') are the same\n",
        "# Tuple ('python',) and ('Python',) contains different elements"
      ],
      "execution_count": null,
      "outputs": [
        {
          "output_type": "stream",
          "text": [
            "Tuple (1, 1) and (1, 1) are the same\n",
            "Tuple ('x', 'y', 'z') and ('a', 'b', 'c') contains different elements\n",
            "Tuple ('t', 22, 45, 'vv') and ('t', 22, 45, 'vv') are the same\n",
            "Tuple ('python',) and ('Python',) contains different elements\n",
            "<function are_tuples_the_same at 0x7f38a27e0200>\n"
          ],
          "name": "stdout"
        }
      ]
    },
    {
      "cell_type": "markdown",
      "metadata": {
        "id": "cWCroeAxPU6t"
      },
      "source": [
        "### 37. Check if there is a specific parameter in a tuple\n",
        "\n",
        "any(iterable)\n",
        "\n",
        "Return True if bool(x) is True for any x in the iterable.\n",
        "\n",
        "If the iterable is empty, return False."
      ]
    },
    {
      "cell_type": "code",
      "metadata": {
        "colab": {
          "base_uri": "https://localhost:8080/"
        },
        "id": "YfRRMk1cPhKB",
        "outputId": "d8cfd65a-6e6d-454f-fa15-69aa4c0842c1"
      },
      "source": [
        "def is_any_element_true(items: tuple) -> bool:\n",
        "    # TODO\n",
        "    return any(items)\n",
        "\n",
        "arrays = [(0, [], 1), ('', True), ('a', {}, 4), (0, False, '')]\n",
        "\n",
        "for items in arrays:\n",
        "    if is_any_element_true(items):\n",
        "        print(f'At least one item in {items} is True')\n",
        "    else:\n",
        "        print(f'No items in {items} are True')\n",
        "        \n",
        "# At least one item in (0, [], 1) is True\n",
        "# At least one item in ('', True) is True\n",
        "# At least one item in ('a', {}, 4) is True\n",
        "# No items in (0, False, '') are True"
      ],
      "execution_count": null,
      "outputs": [
        {
          "output_type": "stream",
          "text": [
            "At least one item in (0, [], 1) is True\n",
            "At least one item in ('', True) is True\n",
            "At least one item in ('a', {}, 4) is True\n",
            "No items in (0, False, '') are True\n"
          ],
          "name": "stdout"
        }
      ]
    },
    {
      "cell_type": "markdown",
      "metadata": {
        "id": "5wqOaQ6e4C2P"
      },
      "source": [
        "### 38. Amend item in a list"
      ]
    },
    {
      "cell_type": "code",
      "metadata": {
        "colab": {
          "base_uri": "https://localhost:8080/"
        },
        "id": "O75EWvYw4Gh_",
        "outputId": "94866aa5-0907-4c71-82f0-0148bdaf1946"
      },
      "source": [
        "arr = [1, 2, 3]\n",
        "arr[2] = 0\n",
        "\n",
        "print(arr)\n",
        "# [1, 2, 0]"
      ],
      "execution_count": null,
      "outputs": [
        {
          "output_type": "stream",
          "text": [
            "[1, 2, 0]\n"
          ],
          "name": "stdout"
        }
      ]
    },
    {
      "cell_type": "markdown",
      "metadata": {
        "id": "Me5NzSyE4W6u"
      },
      "source": [
        "### 39. Create new list with only last 2 variables"
      ]
    },
    {
      "cell_type": "code",
      "metadata": {
        "colab": {
          "base_uri": "https://localhost:8080/"
        },
        "id": "HQVgHZpR4dh4",
        "outputId": "089d95cb-2c24-43b2-fbb1-2674eb2dd54b"
      },
      "source": [
        "arr = [1, 2, 3, 4, 5, 6, 7, 8, 9]\n",
        "\n",
        "new_arr = (arr[-2:])\n",
        "\n",
        "print(new_arr)\n",
        "# [8, 9]"
      ],
      "execution_count": null,
      "outputs": [
        {
          "output_type": "stream",
          "text": [
            "[8, 9]\n"
          ],
          "name": "stdout"
        }
      ]
    },
    {
      "cell_type": "markdown",
      "metadata": {
        "id": "AdExyufa5C3F"
      },
      "source": [
        "### 40. Amend list with only first 5 variables"
      ]
    },
    {
      "cell_type": "code",
      "metadata": {
        "colab": {
          "base_uri": "https://localhost:8080/"
        },
        "id": "yvwXYEbh5KXE",
        "outputId": "41934911-bd70-4de3-a566-77835fafde9d"
      },
      "source": [
        "arr = [1, 2, 3, 4, 5, 6, 7, 8, 9]\n",
        "\n",
        "new_arr = (arr[:5])\n",
        "print(new_arr)\n",
        "# [1, 2, 3, 4, 5]"
      ],
      "execution_count": null,
      "outputs": [
        {
          "output_type": "stream",
          "text": [
            "[1, 2, 3, 4, 5]\n"
          ],
          "name": "stdout"
        }
      ]
    },
    {
      "cell_type": "markdown",
      "metadata": {
        "id": "KJi80-1k69Wd"
      },
      "source": [
        "### 41. Amend the list with only the 4th, 5th & 6th elements"
      ]
    },
    {
      "cell_type": "code",
      "metadata": {
        "colab": {
          "base_uri": "https://localhost:8080/"
        },
        "id": "mZSkfEit7HoF",
        "outputId": "265998c4-ebb5-4315-bf47-7cb672aa7d3f"
      },
      "source": [
        "arr = [1, 2, 3, 4, 5, 6, 7, 8, 9]\n",
        "\n",
        "new_arr = arr[3:6]\n",
        "\n",
        "print(new_arr)\n",
        "# [4, 5, 6]"
      ],
      "execution_count": null,
      "outputs": [
        {
          "output_type": "stream",
          "text": [
            "[4, 5, 6]\n"
          ],
          "name": "stdout"
        }
      ]
    },
    {
      "cell_type": "markdown",
      "metadata": {
        "id": "7B0ep7WB--e9"
      },
      "source": [
        "### 42. Amend the list to display only odd elements\n",
        "\n",
        "The syntax is string[start:end:step]"
      ]
    },
    {
      "cell_type": "code",
      "metadata": {
        "colab": {
          "base_uri": "https://localhost:8080/"
        },
        "id": "dv6xN1RG_ydf",
        "outputId": "ea8ac564-261c-4a54-920a-063ae7e7a893"
      },
      "source": [
        "arr = [1, 2, 3, 4, 5, 6, 7, 8, 9]\n",
        "\n",
        "new_arr = arr[::2]\n",
        "\n",
        "print(new_arr)\n",
        "# [1, 3, 5, 7, 9]"
      ],
      "execution_count": null,
      "outputs": [
        {
          "output_type": "stream",
          "text": [
            "[1, 3, 5, 7, 9]\n"
          ],
          "name": "stdout"
        }
      ]
    },
    {
      "cell_type": "markdown",
      "metadata": {
        "id": "Hmnx3AUyBqpO"
      },
      "source": [
        "### 43. Reverse the string"
      ]
    },
    {
      "cell_type": "code",
      "metadata": {
        "colab": {
          "base_uri": "https://localhost:8080/"
        },
        "id": "P6S-Gcy6CCgp",
        "outputId": "4c66806e-f4cc-4671-cec2-4f0c90ece7cc"
      },
      "source": [
        "arr = [1, 8, 3, 7, 5, 6, 7, 7, 2]\n",
        "\n",
        "new_arr = arr[::-1]\n",
        "\n",
        "print(new_arr)\n",
        "# [2, 7, 7, 6, 5, 7, 3, 8, 1]"
      ],
      "execution_count": null,
      "outputs": [
        {
          "output_type": "stream",
          "text": [
            "[2, 7, 7, 6, 5, 7, 3, 8, 1]\n"
          ],
          "name": "stdout"
        }
      ]
    },
    {
      "cell_type": "markdown",
      "metadata": {
        "id": "zNbd9om1HLil"
      },
      "source": [
        "### 44. Check to see if a list is empty"
      ]
    },
    {
      "cell_type": "code",
      "metadata": {
        "colab": {
          "base_uri": "https://localhost:8080/"
        },
        "id": "vYs-xtfoHQIa",
        "outputId": "7018fd94-cb7c-48f5-993e-7a27f9412f5b"
      },
      "source": [
        "def is_list_empty(arr: list) -> bool:\n",
        "    # TODO\n",
        "    return not bool(arr)\n",
        "\n",
        "arrays = [[1, 2, 3], ['item'], []]\n",
        "\n",
        "for arr in arrays:\n",
        "    if is_list_empty(arr):\n",
        "        print(f'{arr} is a empty list')\n",
        "    else:\n",
        "        print(f'{arr} contains elements')\n",
        "        \n",
        "# [1, 2, 3] contains elements\n",
        "# ['item'] contains elements\n",
        "# [] is a empty list"
      ],
      "execution_count": null,
      "outputs": [
        {
          "output_type": "stream",
          "text": [
            "[1, 2, 3] contains elements\n",
            "['item'] contains elements\n",
            "[] is a empty list\n"
          ],
          "name": "stdout"
        }
      ]
    },
    {
      "cell_type": "markdown",
      "metadata": {
        "id": "r96yaS3KHLdL"
      },
      "source": [
        "### 45. Join 2 lists together"
      ]
    },
    {
      "cell_type": "code",
      "metadata": {
        "colab": {
          "base_uri": "https://localhost:8080/"
        },
        "id": "I3B-OphxPFGt",
        "outputId": "c9208d5a-f408-40ee-c246-b80470599ff2"
      },
      "source": [
        "arr_1 = [1, 2]\n",
        "arr_2 = [3, 4, 5]\n",
        "\n",
        "new_arr = arr_1 + arr_2\n",
        "\n",
        "print(new_arr)\n",
        "# [1, 2, 3, 4, 5]"
      ],
      "execution_count": null,
      "outputs": [
        {
          "output_type": "stream",
          "text": [
            "[1, 2, 3, 4, 5]\n"
          ],
          "name": "stdout"
        }
      ]
    },
    {
      "cell_type": "markdown",
      "metadata": {
        "id": "7WGPM5qOPqNp"
      },
      "source": [
        "### 46. Join arr1 to arr2\n",
        "\n",
        "The *extend()* method is used to add one list to the other"
      ]
    },
    {
      "cell_type": "code",
      "metadata": {
        "colab": {
          "base_uri": "https://localhost:8080/"
        },
        "id": "lECKAre_Pp3D",
        "outputId": "875800d7-e244-43a3-e1c0-01f32820b400"
      },
      "source": [
        "arr_1 = [3, 4]\n",
        "arr_2 = [1, 2]\n",
        "\n",
        "arr_2 = arr_2 + arr_1\n",
        "\n",
        "# or \n",
        "# arr_2.extend(arr_1)\n",
        "\n",
        "print(arr_2)\n",
        "# [1, 2, 3, 4]"
      ],
      "execution_count": null,
      "outputs": [
        {
          "output_type": "stream",
          "text": [
            "[1, 2, 3, 4]\n"
          ],
          "name": "stdout"
        }
      ]
    },
    {
      "cell_type": "markdown",
      "metadata": {
        "id": "Wpx-Tv0iP_Lk"
      },
      "source": [
        "### 47. Copy the list as a new variable (shallow copy)"
      ]
    },
    {
      "cell_type": "code",
      "metadata": {
        "id": "xw5I8SOsSZhj"
      },
      "source": [
        "arr = [1, 2]\n",
        "\n",
        "new_arr = arr.copy()\n",
        "\n",
        "print(new_arr)\n",
        "# [1, 2]"
      ],
      "execution_count": null,
      "outputs": []
    },
    {
      "cell_type": "markdown",
      "metadata": {
        "id": "P4hIF8nWUwDB"
      },
      "source": [
        "### 48. Copy the list as a new variable (deep copy)\n",
        "\n",
        "\n",
        "Generic (shallow and deep) copying operations.\n",
        "\n",
        "Interface summary:\n",
        "\n",
        "    import copy\n",
        "\n",
        "    x = copy.copy(y)        # make a shallow copy of y\n",
        "    x = copy.deepcopy(y)    # make a deep copy of y\n",
        "For module specific errors, copy.Error is raised.\n",
        "\n",
        "The difference between shallow and deep copying is only relevant for\n",
        "compound objects (objects that contain other objects, like lists or\n",
        "class instances).\n",
        "\n",
        "\n",
        "A shallow copy constructs a new compound object and then (to the\n",
        "extent possible) inserts the same objects into it that the\n",
        "original contains.\n",
        "\n",
        "\n",
        "A deep copy constructs a new compound object and then, recursively,\n",
        "inserts copies into it of the objects found in the original.\n",
        "\n",
        "\n",
        "\n",
        "Two problems often exist with deep copy operations that don't exist\n",
        "with shallow copy operations:\n",
        "\n",
        " a) recursive objects (compound objects that, directly or indirectly,\n",
        "    contain a reference to themselves) may cause a recursive loop\n",
        "\n",
        " b) because deep copy copies everything it may copy too much, e.g.\n",
        "    administrative data structures that should be shared even between\n",
        "    copies\n",
        "\n",
        "Python's deep copy operation avoids these problems by:\n",
        "\n",
        " a) keeping a table of objects already copied during the current\n",
        "    copying pass\n",
        "\n",
        " b) letting user-defined classes override the copying operation or the\n",
        "    set of components copied\n",
        "\n",
        "This version does not copy types like module, class, function, method,\n",
        "nor stack trace, stack frame, nor file, socket, window, nor array, nor\n",
        "any similar types.\n",
        "\n",
        "Classes can use the same interfaces to control copying that they use\n",
        "to control pickling: they can define methods called getinitargs(),\n",
        "getstate() and setstate().  See the documentation for module\n",
        "\"pickle\" for information on these methods."
      ]
    },
    {
      "cell_type": "code",
      "metadata": {
        "colab": {
          "base_uri": "https://localhost:8080/"
        },
        "id": "sxBN6A7sUvai",
        "outputId": "f6dbcb33-5761-4b29-e09b-e5809801f6e5"
      },
      "source": [
        "import copy\n",
        "\n",
        "arr = [1, [2]]\n",
        "\n",
        "new_arr = copy.deepcopy(arr)\n",
        "\n",
        "print(new_arr)\n",
        "# [1, [2]]"
      ],
      "execution_count": null,
      "outputs": [
        {
          "output_type": "stream",
          "text": [
            "[1, [2]]\n"
          ],
          "name": "stdout"
        }
      ]
    },
    {
      "cell_type": "markdown",
      "metadata": {
        "id": "6W1oUsAQTbAg"
      },
      "source": [
        "### 49. Length of List"
      ]
    },
    {
      "cell_type": "code",
      "metadata": {
        "colab": {
          "base_uri": "https://localhost:8080/"
        },
        "id": "qqWeTFViTeYn",
        "outputId": "ea81aefb-85ed-42b4-c24e-ca11ea417bfe"
      },
      "source": [
        "arr = [1, 2, 3, 4]\n",
        "\n",
        "arr_length = len(arr)\n",
        "\n",
        "print(arr_length)\n",
        "# 4"
      ],
      "execution_count": null,
      "outputs": [
        {
          "output_type": "stream",
          "text": [
            "4\n"
          ],
          "name": "stdout"
        }
      ]
    },
    {
      "cell_type": "markdown",
      "metadata": {
        "id": "G9JadojDZKw2"
      },
      "source": [
        "### 50. Count occurrences of '2' in the list"
      ]
    },
    {
      "cell_type": "code",
      "metadata": {
        "colab": {
          "base_uri": "https://localhost:8080/"
        },
        "id": "5B904ovsZQf1",
        "outputId": "3401cbfe-1007-458a-bfdc-d5a8647b53cf"
      },
      "source": [
        "arr = [1, 2, 3, 4, 2, 5, 5, 2]\n",
        "\n",
        "count = arr.count(2)\n",
        "\n",
        "print(count)\n",
        "# 3"
      ],
      "execution_count": null,
      "outputs": [
        {
          "output_type": "stream",
          "text": [
            "3\n"
          ],
          "name": "stdout"
        }
      ]
    },
    {
      "cell_type": "markdown",
      "metadata": {
        "id": "DtXUnxc3oz86"
      },
      "source": [
        "### 51. Remove the final element and save it as a separate variable"
      ]
    },
    {
      "cell_type": "code",
      "metadata": {
        "colab": {
          "base_uri": "https://localhost:8080/"
        },
        "id": "W6ByBMJOpGzN",
        "outputId": "37d9f64b-e844-4dc4-e7ca-b46c8374267a"
      },
      "source": [
        "arr = [1, 2, 3]\n",
        "\n",
        "last_item = arr.pop(2)\n",
        "\n",
        "print(arr)\n",
        "print(last_item)\n",
        "# arr\n",
        "# [1, 2]\n",
        "\n",
        "# last_item\n",
        "# 3"
      ],
      "execution_count": null,
      "outputs": [
        {
          "output_type": "stream",
          "text": [
            "[1, 2]\n",
            "3\n"
          ],
          "name": "stdout"
        }
      ]
    },
    {
      "cell_type": "markdown",
      "metadata": {
        "id": "WnGd70GjtL3c"
      },
      "source": [
        "### 52. Remove the element with the value '2' from the list"
      ]
    },
    {
      "cell_type": "code",
      "metadata": {
        "colab": {
          "base_uri": "https://localhost:8080/"
        },
        "id": "rVDbhya7tVhe",
        "outputId": "e4242dc5-93c9-43f3-e511-1b825ca03b3b"
      },
      "source": [
        "arr = [1, 2, 3, 4]\n",
        "\n",
        "del arr[1]\n",
        "# or \n",
        "# arr.pop(1)\n",
        "\n",
        "print(arr)\n",
        "# [1, 3, 4]"
      ],
      "execution_count": null,
      "outputs": [
        {
          "output_type": "stream",
          "text": [
            "[1, 3, 4]\n"
          ],
          "name": "stdout"
        }
      ]
    },
    {
      "cell_type": "markdown",
      "metadata": {
        "id": "31FcGBepFIAf"
      },
      "source": [
        "### 53. Sort list in decending order"
      ]
    },
    {
      "cell_type": "code",
      "metadata": {
        "colab": {
          "base_uri": "https://localhost:8080/"
        },
        "id": "ys2s4SySFMlg",
        "outputId": "4f949389-d2d8-4e98-993d-f19f88fca2cd"
      },
      "source": [
        "arr = [2, 6, 4, 9]\n",
        "\n",
        "arr.sort(reverse=True)\n",
        "print(arr)\n",
        "# [9, 6, 4, 2]"
      ],
      "execution_count": null,
      "outputs": [
        {
          "output_type": "stream",
          "text": [
            "[9, 6, 4, 2]\n"
          ],
          "name": "stdout"
        }
      ]
    },
    {
      "cell_type": "markdown",
      "metadata": {
        "id": "d5P6-N6ZGvQA"
      },
      "source": [
        "### 54. Create a new list of only unique values that are ordered\n",
        "\n",
        "set(*args, **kwargs)\n",
        "\n",
        "set() -> new empty set object\n",
        "\n",
        "set(iterable) -> new set object\n",
        "\n",
        "\n",
        "\n",
        "Build an unordered collection of unique elements."
      ]
    },
    {
      "cell_type": "code",
      "metadata": {
        "colab": {
          "base_uri": "https://localhost:8080/"
        },
        "id": "1KlLqnbHGv2k",
        "outputId": "5810fb07-9473-4511-ae04-6c3e664b60cb"
      },
      "source": [
        "arr = [4, 2, 1, 1, 3, 2, 1, 3, 4, 4, 4, 3]\n",
        "\n",
        "new_arr = list(set(arr))\n",
        "\n",
        "print(new_arr)\n",
        "# [1, 2, 3, 4]"
      ],
      "execution_count": null,
      "outputs": [
        {
          "output_type": "stream",
          "text": [
            "[1, 2, 3, 4]\n"
          ],
          "name": "stdout"
        }
      ]
    },
    {
      "cell_type": "markdown",
      "metadata": {
        "id": "9C3ArOHsM5O4"
      },
      "source": [
        "### 55. Remove the elemends with the value 1 and 3 from the list"
      ]
    },
    {
      "cell_type": "code",
      "metadata": {
        "colab": {
          "base_uri": "https://localhost:8080/"
        },
        "id": "ZYBwx0sKM-5W",
        "outputId": "a407981b-590f-43bf-8031-dabc5d232b08"
      },
      "source": [
        "arr = [4, 2, 1, 1, 3, 2, 1, 3, 4, 4, 4, 3]\n",
        "\n",
        "arr = [x for x in arr if x != 1 and x != 3]\n",
        "\n",
        "print(arr)\n",
        "# [4, 2, 2, 4, 4, 4]"
      ],
      "execution_count": null,
      "outputs": [
        {
          "output_type": "stream",
          "text": [
            "[4, 2, 2, 4, 4, 4]\n"
          ],
          "name": "stdout"
        }
      ]
    },
    {
      "cell_type": "markdown",
      "metadata": {
        "id": "p36jq8Y-O60D"
      },
      "source": [
        "### 56. Create a list where the elements from the first array are not present in the second array"
      ]
    },
    {
      "cell_type": "code",
      "metadata": {
        "id": "PBKFW8XcPF3W",
        "colab": {
          "base_uri": "https://localhost:8080/"
        },
        "outputId": "f560f291-66f9-43d5-e785-9cbac0822de4"
      },
      "source": [
        "arr_1 = [1, 2, 3, 4]\n",
        "arr_2 = [3, 4, 6]\n",
        "\n",
        "difference = list(set(arr_1) - set(arr_2))\n",
        "\n",
        "# or\n",
        "# difference = [item for item in arr_1 if item not in arr_2]\n",
        "\n",
        "print(difference)\n",
        "# [1, 2]"
      ],
      "execution_count": null,
      "outputs": [
        {
          "output_type": "stream",
          "text": [
            "[1, 2]\n"
          ],
          "name": "stdout"
        }
      ]
    },
    {
      "cell_type": "markdown",
      "metadata": {
        "id": "i0THvk3WdWo2"
      },
      "source": [
        "### 57. Convert list to string, with elements separated by a comma and space"
      ]
    },
    {
      "cell_type": "code",
      "metadata": {
        "colab": {
          "base_uri": "https://localhost:8080/"
        },
        "id": "puUxxLbwdeoc",
        "outputId": "4b7812f2-4487-4243-ae75-6404d11610e5"
      },
      "source": [
        "arr = ['Alice', 'Tom', 'John']\n",
        "\n",
        "names = ', '.join(arr)\n",
        "\n",
        "print(names)\n",
        "# 'Alice, Tom, John'"
      ],
      "execution_count": null,
      "outputs": [
        {
          "output_type": "stream",
          "text": [
            "Alice, Tom, John\n"
          ],
          "name": "stdout"
        }
      ]
    },
    {
      "cell_type": "markdown",
      "metadata": {
        "id": "hXmINvMCe_uA"
      },
      "source": [
        "### 58. Remove empty Strings from list"
      ]
    },
    {
      "cell_type": "code",
      "metadata": {
        "colab": {
          "base_uri": "https://localhost:8080/"
        },
        "id": "F6E7IvPPfELG",
        "outputId": "567da7cb-f190-4491-f871-ce01154749f8"
      },
      "source": [
        "arr = ['Alice', '', 'Tom', 'John', '']\n",
        "\n",
        "arr = list(filter(None, arr))\n",
        "\n",
        "# or\n",
        "# arr = [item for item in arr if item]\n",
        "\n",
        "print(arr)\n",
        "# ['Alice', 'Tom', 'John']"
      ],
      "execution_count": null,
      "outputs": [
        {
          "output_type": "stream",
          "text": [
            "['Alice', 'Tom', 'John']\n"
          ],
          "name": "stdout"
        }
      ]
    },
    {
      "cell_type": "markdown",
      "metadata": {
        "id": "amI6e0rUgK01"
      },
      "source": [
        "### 59. find the smallest number in the list and save it as new variable"
      ]
    },
    {
      "cell_type": "code",
      "metadata": {
        "colab": {
          "base_uri": "https://localhost:8080/"
        },
        "id": "kViAluyvgPZW",
        "outputId": "4ace0dc1-b0cb-4520-a14a-dde2ac6e2853"
      },
      "source": [
        "arr = [104, -60, 0, 399, -30, -5]\n",
        "\n",
        "smallest_number = min(arr)\n",
        "\n",
        "print(smallest_number)\n",
        "\n",
        "# -60"
      ],
      "execution_count": null,
      "outputs": [
        {
          "output_type": "stream",
          "text": [
            "-60\n"
          ],
          "name": "stdout"
        }
      ]
    },
    {
      "cell_type": "markdown",
      "metadata": {
        "id": "q19IqsWSiWuN"
      },
      "source": [
        "### 60. Check if all elements of a given list are true"
      ]
    },
    {
      "cell_type": "code",
      "metadata": {
        "colab": {
          "base_uri": "https://localhost:8080/"
        },
        "id": "P6iEVjMIki_K",
        "outputId": "1d8c73c3-b699-45d4-acfa-c4fe1c95d191"
      },
      "source": [
        "def are_elements_true(arr: list) -> bool:\n",
        "    # TODO\n",
        "    return all(arr)\n",
        "    \n",
        "arrays = [[0, True, 1], [22, True], ['a', 'b', 4]]\n",
        "\n",
        "for arr in arrays:\n",
        "    if are_elements_true(arr):\n",
        "        print(f'All items in {arr} are \"True\"')\n",
        "    else:\n",
        "        print(f'Some items in {arr} are \"False\"')"
      ],
      "execution_count": null,
      "outputs": [
        {
          "output_type": "stream",
          "text": [
            "Some items in [0, True, 1] are \"False\"\n",
            "All items in [22, True] are \"True\"\n",
            "All items in ['a', 'b', 4] are \"True\"\n"
          ],
          "name": "stdout"
        }
      ]
    },
    {
      "cell_type": "markdown",
      "metadata": {
        "id": "LO2_w4b-pRB3"
      },
      "source": [
        "### 61. Find all numbers that are greater than 25"
      ]
    },
    {
      "cell_type": "code",
      "metadata": {
        "colab": {
          "base_uri": "https://localhost:8080/"
        },
        "id": "vvhByV2hpZCe",
        "outputId": "cedc4eff-7e24-43ba-a5fd-d9d2d6dfe8bc"
      },
      "source": [
        "numbers = [88, 45, 4, 7, 98, 34, 21, 18, 14, 55, 48, 1]\n",
        "\n",
        "new_numbers = [i for i in numbers if i > 25]\n",
        "\n",
        "print(new_numbers)\n",
        "# [88, 45, 98, 34, 55, 48]"
      ],
      "execution_count": null,
      "outputs": [
        {
          "output_type": "stream",
          "text": [
            "[88, 45, 98, 34, 55, 48]\n"
          ],
          "name": "stdout"
        }
      ]
    },
    {
      "cell_type": "markdown",
      "metadata": {
        "id": "2ZRiDg_zrLSe"
      },
      "source": [
        "### 62. Find the average of the list and round to 2 decimal places"
      ]
    },
    {
      "cell_type": "code",
      "metadata": {
        "colab": {
          "base_uri": "https://localhost:8080/"
        },
        "id": "ak7dqcOxrQfN",
        "outputId": "00fc007d-e223-43ba-895b-e957bd23c76f"
      },
      "source": [
        "import statistics\n",
        "\n",
        "arr = [6, 4, 56, 34, 23, 78, 1, 34, 17]\n",
        "\n",
        "mean = round(statistics.mean(arr), 2)\n",
        "\n",
        "# 28.11\n",
        "\n",
        "print(mean)"
      ],
      "execution_count": null,
      "outputs": [
        {
          "output_type": "stream",
          "text": [
            "28.11\n"
          ],
          "name": "stdout"
        }
      ]
    },
    {
      "cell_type": "markdown",
      "metadata": {
        "id": "9_wVrBhuwCJB"
      },
      "source": [
        "### 63. Find the duplicates in the array and create a list "
      ]
    },
    {
      "cell_type": "code",
      "metadata": {
        "colab": {
          "base_uri": "https://localhost:8080/"
        },
        "id": "e67MZcbwwKLO",
        "outputId": "336cdbe2-e90a-4c65-d0f0-6b3738ba8890"
      },
      "source": [
        "from collections import Counter\n",
        "\n",
        "arr = ['a', 11, 14, 11, 'a', 'a', 'f', 4, 4, 'a', 6, 8, 8, 8]\n",
        "\n",
        "duplicates = [key for key, value in Counter(arr).items() if value >1]\n",
        "\n",
        "print(duplicates)\n",
        "# ['a', 11, 4, 8]"
      ],
      "execution_count": null,
      "outputs": [
        {
          "output_type": "stream",
          "text": [
            "['a', 11, 4, 8]\n"
          ],
          "name": "stdout"
        }
      ]
    },
    {
      "cell_type": "markdown",
      "metadata": {
        "id": "q9llO8RvktVJ"
      },
      "source": [
        "### 64. Get all indicies from the list for elements that have a value greater than 2\n",
        "\n",
        "enumerate(*args, **kwargs)\n",
        "\n",
        "Return an enumerate object.\n",
        "\n",
        "  iterable\n",
        "    an object supporting iteration\n",
        "\n",
        "The enumerate object yields pairs containing a count (from start, which\n",
        "defaults to zero) and a value yielded by the iterable argument.\n",
        "\n",
        "enumerate is useful for obtaining an indexed list:\n",
        "    (0, seq[0]), (1, seq[1]), (2, seq[2]), ..."
      ]
    },
    {
      "cell_type": "code",
      "metadata": {
        "colab": {
          "base_uri": "https://localhost:8080/"
        },
        "id": "75bgvVXIk770",
        "outputId": "44715f96-41ac-476b-8035-21609fc226ef"
      },
      "source": [
        "arr = [5, 4, 2, 7, 6, 2, 2, 1, 1, 2]\n",
        "\n",
        "indexes = [i for i, item in enumerate(arr) if item == 2]\n",
        "\n",
        "print(indexes)\n",
        "# [2, 5, 6, 9]"
      ],
      "execution_count": null,
      "outputs": [
        {
          "output_type": "stream",
          "text": [
            "[2, 5, 6, 9]\n"
          ],
          "name": "stdout"
        }
      ]
    },
    {
      "cell_type": "markdown",
      "metadata": {
        "id": "w0i5r_M5UBPJ"
      },
      "source": [
        "### 65. Create a list of even numbers in the range 16-76"
      ]
    },
    {
      "cell_type": "code",
      "metadata": {
        "colab": {
          "base_uri": "https://localhost:8080/"
        },
        "id": "-8EEpFKbUJHR",
        "outputId": "7e3efd4e-6b06-4325-bb19-c0bbe8e389af"
      },
      "source": [
        "numbers = list(range(16, 77, 2))\n",
        "print(numbers)\n",
        "# [16, 18, 20, 22, 24, 26, 28, 30, 32, 34, 36, 38, 40, 42, 44, 46, 48, 50, 52, 54, 56, 58, 60, 62, 64, 66, 68, 70, 72, 74, 76]"
      ],
      "execution_count": null,
      "outputs": [
        {
          "output_type": "stream",
          "text": [
            "[16, 18, 20, 22, 24, 26, 28, 30, 32, 34, 36, 38, 40, 42, 44, 46, 48, 50, 52, 54, 56, 58, 60, 62, 64, 66, 68, 70, 72, 74, 76]\n"
          ],
          "name": "stdout"
        }
      ]
    },
    {
      "cell_type": "markdown",
      "metadata": {
        "id": "zTeuPpVFVJgg"
      },
      "source": [
        "### 66. Get values from a dictionary and place in a list"
      ]
    },
    {
      "cell_type": "code",
      "metadata": {
        "colab": {
          "base_uri": "https://localhost:8080/"
        },
        "id": "0-9pZi1gVcjI",
        "outputId": "90d74cce-7fe4-4cc6-f5f4-aefc57e40a67"
      },
      "source": [
        "names_dict = {\n",
        "    1: 'Anna',\n",
        "    2: 'Tom',\n",
        "    3: 'Alice',\n",
        "    4: 'Mark'\n",
        "}\n",
        "\n",
        "names = list(names_dict.values())\n",
        "\n",
        "# ['Anna', 'Tom', 'Alice', 'Mark']\n",
        "print(names)"
      ],
      "execution_count": null,
      "outputs": [
        {
          "output_type": "stream",
          "text": [
            "['Anna', 'Tom', 'Alice', 'Mark']\n"
          ],
          "name": "stdout"
        }
      ]
    },
    {
      "cell_type": "markdown",
      "metadata": {
        "id": "lao9mg80n3Ay"
      },
      "source": [
        "### 67. Add 10 to each element in the list"
      ]
    },
    {
      "cell_type": "code",
      "metadata": {
        "colab": {
          "base_uri": "https://localhost:8080/"
        },
        "id": "HzqeRCX_n977",
        "outputId": "0647939d-708b-4ef2-82ef-9cb760c2d173"
      },
      "source": [
        "numbers = [5, 4, 7, 8, 22, 567]\n",
        "\n",
        "numbers = list([x+10 for x in numbers])\n",
        "\n",
        "# or\n",
        "# list(map(lambda num: num + 10, numbers))\n",
        "\n",
        "# [15, 14, 17, 18, 32, 577]\n",
        "print(numbers)"
      ],
      "execution_count": null,
      "outputs": [
        {
          "output_type": "stream",
          "text": [
            "[15, 14, 17, 18, 32, 577]\n"
          ],
          "name": "stdout"
        }
      ]
    },
    {
      "cell_type": "markdown",
      "metadata": {
        "id": "-w0UzLpMpUbR"
      },
      "source": [
        "### 68. Create new list from given list. All elements must be in the same order as in the original list"
      ]
    },
    {
      "cell_type": "code",
      "metadata": {
        "colab": {
          "base_uri": "https://localhost:8080/"
        },
        "id": "IBREOEEVphYs",
        "outputId": "8e28da45-2b78-491f-d157-daad0e230a89"
      },
      "source": [
        "arr = [4, 7, 15, 4, 4, 56, 6, 6, 89, 15, 111]\n",
        "\n",
        "new_arr = list(dict.fromkeys(arr))\n",
        "\n",
        "# or\n",
        "#new_arr = []\n",
        "#for item in arr:\n",
        " #   if item not in new_arr:\n",
        "  #      new_arr.append(item)\n",
        "\n",
        "print(new_arr)\n",
        "# [4, 7, 15, 56, 6, 89, 111]"
      ],
      "execution_count": null,
      "outputs": [
        {
          "output_type": "stream",
          "text": [
            "[4, 7, 15, 56, 6, 89, 111]\n"
          ],
          "name": "stdout"
        }
      ]
    },
    {
      "cell_type": "markdown",
      "metadata": {
        "id": "Iu6EnR0uC_5E"
      },
      "source": [
        "### 69. Make a flat list out of a list of lists."
      ]
    },
    {
      "cell_type": "code",
      "metadata": {
        "colab": {
          "base_uri": "https://localhost:8080/"
        },
        "id": "RwvuaObwDH9_",
        "outputId": "1ac7ff0d-9ef1-45b4-83e9-b0e01d1b48fc"
      },
      "source": [
        "arr = [[1, 2], [3], [4, 5, 6, 7], [8, 9]]\n",
        "\n",
        "merged_arr = [j for i in arr for j in i]\n",
        "\n",
        "print(merged_arr)\n",
        "\n",
        "\n",
        "# or\n",
        "# import itertools\n",
        "# arr = [[1, 2], [3], [4, 5, 6, 7], [8, 9]]\n",
        "# merged_arr = list(itertools.chain.from_iterable(arr))\n",
        "\n",
        "# [1, 2, 3, 4, 5, 6, 7, 8, 9]"
      ],
      "execution_count": null,
      "outputs": [
        {
          "output_type": "stream",
          "text": [
            "[1, 2, 3, 4, 5, 6, 7, 8, 9]\n"
          ],
          "name": "stdout"
        }
      ]
    },
    {
      "cell_type": "markdown",
      "metadata": {
        "id": "bAKpUkp4fu5l"
      },
      "source": [
        "### 70. Sort the list based on age attribute in decending order"
      ]
    },
    {
      "cell_type": "code",
      "metadata": {
        "colab": {
          "base_uri": "https://localhost:8080/"
        },
        "id": "3k8pTmOpf3ur",
        "outputId": "a522c007-101e-4bc5-db04-364a856bd50c"
      },
      "source": [
        "class Person:\n",
        "    def __init__(self, name: str, age: int):\n",
        "        self.name = name\n",
        "        self.age = age\n",
        "        \n",
        "    def __repr__(self):\n",
        "        return f'{self.name} - {self.age}'\n",
        "\n",
        "\n",
        "p1 = Person('Tom', 34)\n",
        "p2 = Person('Alice', 28)\n",
        "p3 = Person('John', 37)\n",
        "\n",
        "\n",
        "arr = [p1, p2, p3]\n",
        "\n",
        "arr.sort(key=lambda x: x.age, reverse=True)\n",
        "print(arr)\n",
        "# [John - 37, Tom - 34, Alice - 28]"
      ],
      "execution_count": null,
      "outputs": [
        {
          "output_type": "stream",
          "text": [
            "[John - 37, Tom - 34, Alice - 28]\n"
          ],
          "name": "stdout"
        }
      ]
    },
    {
      "cell_type": "markdown",
      "metadata": {
        "id": "Bzd_xw9Y-vE2"
      },
      "source": [
        "### 71. Add the new numbers list to the numbers set. the order does not matter"
      ]
    },
    {
      "cell_type": "code",
      "metadata": {
        "colab": {
          "base_uri": "https://localhost:8080/"
        },
        "id": "dacA4YzW-09_",
        "outputId": "19eaeef8-3b05-431d-b4c9-55e2efb17e0e"
      },
      "source": [
        "numbers = {1, 2, 3}\n",
        "new_numbers = [6, 7]\n",
        "\n",
        "numbers.update(new_numbers)\n",
        "\n",
        "print(numbers)\n",
        "# {1, 2, 3, 6, 7}\n",
        "# The order of elements does not matter."
      ],
      "execution_count": null,
      "outputs": [
        {
          "output_type": "stream",
          "text": [
            "{1, 2, 3, 6, 7}\n"
          ],
          "name": "stdout"
        }
      ]
    },
    {
      "cell_type": "markdown",
      "metadata": {
        "id": "IKg_Bq61_WKf"
      },
      "source": [
        "### 72. Add the new numbers list to the numbers set. the order does not matter"
      ]
    },
    {
      "cell_type": "code",
      "metadata": {
        "colab": {
          "base_uri": "https://localhost:8080/"
        },
        "id": "Z81mOgsA_kLQ",
        "outputId": "e583a285-d50e-446c-fd50-ad27db7c95ec"
      },
      "source": [
        "numbers = {1, 2, 3}\n",
        "new_numbers = {6, 7}\n",
        "\n",
        "numbers.update(new_numbers)\n",
        "\n",
        "#or \n",
        "#numbers |= new_numbers\n",
        "\n",
        "print(numbers)\n",
        "# {1, 2, 3, 6, 7}\n",
        "# The order of elements does not matter."
      ],
      "execution_count": null,
      "outputs": [
        {
          "output_type": "stream",
          "text": [
            "{1, 2, 3, 6, 7}\n"
          ],
          "name": "stdout"
        }
      ]
    },
    {
      "cell_type": "markdown",
      "metadata": {
        "id": "fKarvfqu_xro"
      },
      "source": [
        "### 73. Find the intersection of 3 different sets."
      ]
    },
    {
      "cell_type": "code",
      "metadata": {
        "colab": {
          "base_uri": "https://localhost:8080/"
        },
        "id": "jhwjGxpc_6iB",
        "outputId": "90c3485b-4081-4001-ff5c-0b8a8b2b3d57"
      },
      "source": [
        "numbers_a = {10, 10, 20, 30}\n",
        "numbers_b = {5, 10, 30, 2000}\n",
        "numbers_c = {'5', 10, 30, 45.5, '2000'}\n",
        "\n",
        "numbers = set.intersection(numbers_a, numbers_b, numbers_c)\n",
        "# or\n",
        "# numbers = numbers_a & numbers_b & numbers_c\n",
        "\n",
        "print(numbers)\n",
        "# {10, 30}\n",
        "# The order of elements does not matter"
      ],
      "execution_count": null,
      "outputs": [
        {
          "output_type": "stream",
          "text": [
            "{10, 30}\n"
          ],
          "name": "stdout"
        }
      ]
    },
    {
      "cell_type": "markdown",
      "metadata": {
        "id": "_rsm68sZBQSB"
      },
      "source": [
        "### 74. Create the Numbers set with all elements from the given sets."
      ]
    },
    {
      "cell_type": "code",
      "metadata": {
        "colab": {
          "base_uri": "https://localhost:8080/"
        },
        "id": "v-K94ZRIBZv7",
        "outputId": "2ff39f56-5fad-49a3-bed1-5bef4a14a583"
      },
      "source": [
        "numbers_a = {10, 10, 20, 30}\n",
        "numbers_b = {5, 10, 30, 2000}\n",
        "numbers_c = {'5', 10, 30, 45.5, '2000'}\n",
        "\n",
        "numbers = set.union(numbers_a, numbers_b, numbers_c)\n",
        "# or \n",
        "# numbers_a | numbers_b | numbers_c\n",
        "\n",
        "print(numbers)\n",
        "# {5, 10, 45.5, 2000, 20, '5', '2000', 30}\n",
        "# The order of elements does not matter"
      ],
      "execution_count": null,
      "outputs": [
        {
          "output_type": "stream",
          "text": [
            "{5, 10, '5', 45.5, 2000, 20, 30, '2000'}\n"
          ],
          "name": "stdout"
        }
      ]
    },
    {
      "cell_type": "markdown",
      "metadata": {
        "id": "l9wd4boOGOfB"
      },
      "source": [
        "### 75. Create a new set with only the unique elements from the given sets"
      ]
    },
    {
      "cell_type": "code",
      "metadata": {
        "colab": {
          "base_uri": "https://localhost:8080/"
        },
        "id": "ZNe_atg2HCMS",
        "outputId": "839c4d9e-2369-42ec-b69f-c9ea7bb1c77c"
      },
      "source": [
        "numbers_a = {10, 10, 20, 30}\n",
        "numbers_b = {5, 10, 30, 2000}\n",
        "\n",
        "numbers = set(numbers_a)^set(numbers_b)\n",
        "\n",
        "# or \n",
        "# numbers = numbers_a ^ numbers_b\n",
        "# or\n",
        "# numbers = set.symmetric_difference(numbers_a, numbers_b)\n",
        "\n",
        "print(numbers)\n",
        "# {5, 2000, 20}\n",
        "# The order of elements does not matter"
      ],
      "execution_count": null,
      "outputs": [
        {
          "output_type": "stream",
          "text": [
            "{5, 2000, 20}\n"
          ],
          "name": "stdout"
        }
      ]
    },
    {
      "cell_type": "markdown",
      "metadata": {
        "id": "MKNNuS8HZ6Cw"
      },
      "source": [
        "### 76. Check if all elements are in the \"Test Numbers\" set"
      ]
    },
    {
      "cell_type": "code",
      "metadata": {
        "colab": {
          "base_uri": "https://localhost:8080/"
        },
        "id": "P1xvQ0UeaG2B",
        "outputId": "c62df059-9dde-4e83-e067-21cabd045177"
      },
      "source": [
        "test_numbers = {1, 4, 6, 8, 13, 14, 17, 22, 24}\n",
        "\n",
        "def are_elements_in_test_numbers(numbers: set) -> bool:\n",
        "    # TODO\n",
        "    return numbers <= test_numbers \n",
        "    # or\n",
        "    # return numbers.issubset(test_numbers)\n",
        "    \n",
        "arr = [{100}, {8, 13, 24}, {4, 17}, {4, 7, 8, 13}]\n",
        "\n",
        "for numbers in arr:\n",
        "    if are_elements_in_test_numbers(numbers):\n",
        "        print(f'All elements of {numbers} are in test_numbers set')\n",
        "    else:\n",
        "        print(f'Not every element of {numbers} is in test_numbers set')"
      ],
      "execution_count": null,
      "outputs": [
        {
          "output_type": "stream",
          "text": [
            "Not every element of {100} is in test_numbers set\n",
            "All elements of {8, 24, 13} are in test_numbers set\n",
            "All elements of {17, 4} are in test_numbers set\n",
            "Not every element of {8, 4, 13, 7} is in test_numbers set\n"
          ],
          "name": "stdout"
        }
      ]
    },
    {
      "cell_type": "markdown",
      "metadata": {
        "id": "eTDswDDvOVEg"
      },
      "source": [
        "### 77. Return the value of the key 'name' in a given dictionary. If no such key exists then return the string \"Unknown Name\""
      ]
    },
    {
      "cell_type": "code",
      "metadata": {
        "colab": {
          "base_uri": "https://localhost:8080/"
        },
        "id": "4EsO4GetOkyw",
        "outputId": "653be9d5-f73e-4d05-83ca-89bbdc003aa2"
      },
      "source": [
        "def get_name(dictionary: dict) -> str:\n",
        "    # TODO\n",
        "    return dictionary.get('name', 'Unknown name')\n",
        "\n",
        "arr = [\n",
        "    {\n",
        "        'name': 'John',\n",
        "        'age': 25\n",
        "    },\n",
        "    {\n",
        "        'age': 20\n",
        "    },\n",
        "    {\n",
        "        'name': 'Tom',\n",
        "        'age': 38\n",
        "    },\n",
        "    {}\n",
        "]\n",
        "\n",
        "for dictionary in arr:\n",
        "    print(get_name(dictionary))\n",
        "\n",
        "# John\n",
        "# Unknown name\n",
        "# Tom\n",
        "# Unknown name"
      ],
      "execution_count": null,
      "outputs": [
        {
          "output_type": "stream",
          "text": [
            "John\n",
            "Unknown name\n",
            "Tom\n",
            "Unknown name\n"
          ],
          "name": "stdout"
        }
      ]
    }
  ]
}